{
 "cells": [
  {
   "cell_type": "code",
   "execution_count": 1,
   "metadata": {},
   "outputs": [],
   "source": [
    "from sklearn import svm\n",
    "from sklearn.neural_network import MLPClassifier\n",
    "import json\n",
    "import numpy as np\n",
    "import re\n",
    "import random"
   ]
  },
  {
   "cell_type": "markdown",
   "metadata": {},
   "source": [
    "## 数据准备"
   ]
  },
  {
   "cell_type": "code",
   "execution_count": 2,
   "metadata": {},
   "outputs": [],
   "source": [
    "jl = []"
   ]
  },
  {
   "cell_type": "code",
   "execution_count": 3,
   "metadata": {},
   "outputs": [],
   "source": [
    "with open('github_python0.jl', 'r') as f:\n",
    "    for i in f:\n",
    "        jl.append(json.loads(i))\n"
   ]
  },
  {
   "cell_type": "code",
   "execution_count": 4,
   "metadata": {},
   "outputs": [],
   "source": [
    "random.shuffle(jl)"
   ]
  },
  {
   "cell_type": "code",
   "execution_count": 5,
   "metadata": {},
   "outputs": [],
   "source": [
    "def str2int(x: str):\n",
    "    if 'k' in x:\n",
    "        return int(float(x[:-1])*1000)\n",
    "    else:\n",
    "        return int(x)\n"
   ]
  },
  {
   "cell_type": "markdown",
   "metadata": {},
   "source": [
    "首先对数据进行处理，我选取了`fork`, `release`, `contibutors`, `pulls_open`, `pulls_closed`, `issues_open`, `issues_closed`这几个指标作为输入数据， 用`star`作为标签数据，训练模型。\n"
   ]
  },
  {
   "cell_type": "code",
   "execution_count": 6,
   "metadata": {},
   "outputs": [],
   "source": [
    "def process(x):\n",
    "    star = str2int(x['star'])\n",
    "    fork = str2int(x['fork'])\n",
    "    release = int(x['release'])\n",
    "    contr = int(x['contributors'])\n",
    "    branch = int(x['branch'])\n",
    "    topic_len = len(x['topic'])\n",
    "    lang_len = len(x['languages'])\n",
    "    pull_open = x['pull_requests_open']\n",
    "    m = re.match('(^[0-9,]+)', pull_open)\n",
    "    pull_open = int(m.group(1).replace(',', ''))\n",
    "    pull_clos = x['pull_requests_closed']\n",
    "    m = re.match('(^[0-9,]+)', pull_clos)\n",
    "    pull_clos = int(m.group(1).replace(',', ''))\n",
    "    issu_open = x['issues_open']\n",
    "    m = re.match('(^[0-9,]+)', issu_open)\n",
    "    issu_open = int(m.group(1).replace(',', ''))\n",
    "    issu_clos = x['issues_closed']\n",
    "    m = re.match('(^[0-9,]+)', issu_clos)\n",
    "    issu_clos = int(m.group(1).replace(',', ''))\n",
    "    data = np.array([fork/1000,\n",
    "                     release/10, contr,\n",
    "                     pull_open/100, pull_clos/100,\n",
    "                     issu_open/100, issu_clos/100]).astype(np.float32)\n",
    "    lab = np.array([star]).astype(np.float32)\n",
    "    return data, lab\n"
   ]
  },
  {
   "cell_type": "code",
   "execution_count": 7,
   "metadata": {},
   "outputs": [
    {
     "data": {
      "text/plain": [
       "(array([ 1.5 ,  1.4 , 14.  ,  0.18,  8.28,  3.12, 13.52], dtype=float32),\n",
       " array([22600.], dtype=float32))"
      ]
     },
     "execution_count": 7,
     "metadata": {},
     "output_type": "execute_result"
    }
   ],
   "source": [
    "process(jl[0])"
   ]
  },
  {
   "cell_type": "code",
   "execution_count": 8,
   "metadata": {},
   "outputs": [
    {
     "name": "stdout",
     "output_type": "stream",
     "text": [
      "https://github.com/h2oai/h2o-3\n",
      "https://github.com/apache/flink\n",
      "https://github.com/apache/avro\n",
      "https://github.com/DonJayamanne/pythonVSCode\n",
      "https://github.com/pytorch/pytorch\n",
      "https://github.com/itdevbooks/pdf\n",
      "https://github.com/tianocore/edk2\n",
      "https://github.com/life4/textdistance\n",
      "https://github.com/navdeep-G/samplemod\n",
      "https://github.com/Azure/azure-sdk-for-python\n",
      "https://github.com/ab77/netflix-proxy\n",
      "https://github.com/d2l-ai/d2l-zh\n",
      "https://github.com/justjavac/free-programming-books-zh_CN\n",
      "https://github.com/sivel/speedtest-cli\n",
      "https://github.com/Avik-Jain/100-Days-Of-ML-Code\n",
      "https://github.com/timofurrer/awesome-asyncio\n",
      "https://github.com/byt3bl33d3r/MITMf\n",
      "https://github.com/apache/spark\n",
      "https://github.com/SerpentAI/SerpentAI\n",
      "https://github.com/mementum/backtrader\n",
      "https://github.com/fastai/fastpages\n",
      "https://github.com/dcos/dcos\n",
      "https://github.com/twisted/twisted\n",
      "https://github.com/apache/beam\n",
      "https://github.com/souyunku/DevBooks\n",
      "https://github.com/apache/activemq\n",
      "https://github.com/microsoft/CNTK\n",
      "https://github.com/django/django\n",
      "https://github.com/kovidgoyal/calibre\n",
      "https://github.com/metabrainz/picard\n"
     ]
    }
   ],
   "source": [
    "ds = []\n",
    "for i in jl:\n",
    "    try:\n",
    "        ds.append(process(i))\n",
    "    except:\n",
    "        print(i['url'])\n"
   ]
  },
  {
   "cell_type": "markdown",
   "metadata": {},
   "source": [
    "之后将数据处理成符合输入的形式，并切成训练集和测试集。"
   ]
  },
  {
   "cell_type": "code",
   "execution_count": 9,
   "metadata": {},
   "outputs": [
    {
     "data": {
      "text/plain": [
       "990"
      ]
     },
     "execution_count": 9,
     "metadata": {},
     "output_type": "execute_result"
    }
   ],
   "source": [
    "ds_len = len(ds)\n",
    "ds_len\n"
   ]
  },
  {
   "cell_type": "code",
   "execution_count": 10,
   "metadata": {},
   "outputs": [
    {
     "data": {
      "text/plain": [
       "792"
      ]
     },
     "execution_count": 10,
     "metadata": {},
     "output_type": "execute_result"
    }
   ],
   "source": [
    "sp = (ds_len//10)*8\n",
    "sp"
   ]
  },
  {
   "cell_type": "code",
   "execution_count": 11,
   "metadata": {},
   "outputs": [
    {
     "data": {
      "text/plain": [
       "792"
      ]
     },
     "execution_count": 11,
     "metadata": {},
     "output_type": "execute_result"
    }
   ],
   "source": [
    "train_ds = ds[:sp]\n",
    "len(train_ds)"
   ]
  },
  {
   "cell_type": "code",
   "execution_count": 12,
   "metadata": {},
   "outputs": [
    {
     "name": "stdout",
     "output_type": "stream",
     "text": [
      "(792, 7)\n",
      "(792,)\n"
     ]
    }
   ],
   "source": [
    "train_X = []\n",
    "train_y = []\n",
    "for x, y in train_ds:\n",
    "    train_X.append(x)\n",
    "    train_y.append(y)\n",
    "\n",
    "train_X = np.array(train_X)\n",
    "print(train_X.shape)\n",
    "train_y = np.array(train_y).squeeze()\n",
    "print(train_y.shape)"
   ]
  },
  {
   "cell_type": "code",
   "execution_count": 13,
   "metadata": {},
   "outputs": [
    {
     "data": {
      "text/plain": [
       "198"
      ]
     },
     "execution_count": 13,
     "metadata": {},
     "output_type": "execute_result"
    }
   ],
   "source": [
    "test_ds = ds[sp:]\n",
    "len(test_ds)"
   ]
  },
  {
   "cell_type": "code",
   "execution_count": 14,
   "metadata": {},
   "outputs": [
    {
     "name": "stdout",
     "output_type": "stream",
     "text": [
      "(198, 7)\n",
      "(198,)\n"
     ]
    }
   ],
   "source": [
    "test_X = []\n",
    "test_y = []\n",
    "for x, y in test_ds:\n",
    "    test_X.append(x)\n",
    "    test_y.append(y)\n",
    "\n",
    "test_X = np.array(test_X)\n",
    "print(test_X.shape)\n",
    "test_y = np.array(test_y).squeeze()\n",
    "print(test_y.shape)"
   ]
  },
  {
   "cell_type": "markdown",
   "metadata": {},
   "source": [
    "## 模型定义"
   ]
  },
  {
   "cell_type": "code",
   "execution_count": 15,
   "metadata": {},
   "outputs": [],
   "source": [
    "model = model = svm.SVC(gamma=0.001, C=100.)\n",
    "\n",
    "# model = MLPClassifier(alpha=1e-5,\n",
    "#                       activation='tanh')\n"
   ]
  },
  {
   "cell_type": "markdown",
   "metadata": {},
   "source": [
    "## 训练"
   ]
  },
  {
   "cell_type": "code",
   "execution_count": 16,
   "metadata": {},
   "outputs": [
    {
     "data": {
      "text/plain": [
       "SVC(C=100.0, gamma=0.001)"
      ]
     },
     "execution_count": 16,
     "metadata": {},
     "output_type": "execute_result"
    }
   ],
   "source": [
    "model.fit(train_X, train_y)"
   ]
  },
  {
   "cell_type": "markdown",
   "metadata": {},
   "source": [
    "## 预测"
   ]
  },
  {
   "cell_type": "code",
   "execution_count": 17,
   "metadata": {},
   "outputs": [
    {
     "data": {
      "text/plain": [
       "array([ 2000., 47200.,  3700.,  3800.,  2200.,  4400.,  2200.,  2400.,\n",
       "        2500.,  7600.,  3100., 10200.,  1900.,  2100.,  1800.,  2000.,\n",
       "        2000.,  2000.,  2000.,  1900.,  4700.,  1900.,  1800.,  2600.,\n",
       "        2000.,  1800.,  1900., 18000.,  3700.,  1900.,  2000.,  1900.,\n",
       "        1800.,  6300.,  2000.,  2000.,  2000.,  1800.,  1800.,  1800.,\n",
       "        3800.,  2000.,  2000.,  1800.,  4700.,  4400.,  3700.,  2000.,\n",
       "        2000.,  2000.,  2500.,  2000.,  2000.,  1800.,  5900., 14300.,\n",
       "        2000.,  1800.,  5400.,  1800.,  2000.,  2000.,  6600.,  2600.,\n",
       "        6700.,  1800.,  2300.,  1900.,  2000.,  4600.,  2000.,  2200.,\n",
       "        2300.,  6300., 46100.,  2400.,  2000.,  1900.,  2700.,  2000.,\n",
       "        2000.,  1800.,  2000.,  1800.,  5300.,  2500.,  2700.,  6300.,\n",
       "       15000.,  2000.,  7200.,  3100.,  1800.,  1900.,  1800.,  6700.,\n",
       "        1800.,  7600.,  2600.,  8100.,  6600.,  2000.,  1900.,  2000.,\n",
       "        3000.,  1800.,  2500.,  3900.,  2000., 16600.,  1800.,  1800.,\n",
       "        2000.,  2000.,  1800., 13600.,  2700.,  1900.,  2000.,  2000.,\n",
       "        2000.,  1900.,  3000.,  2700.,  4400.,  1800.,  1800.,  3300.,\n",
       "        1800., 10400., 10100.,  2000.,  4400., 19600.,  2000.,  5500.,\n",
       "       13600.,  2000.,  2000.,  2600.,  1800.,  1800.,  6800.,  1900.,\n",
       "        2200.,  2000.,  4700.,  2700.,  5600.,  5500.,  2700.,  6800.,\n",
       "        3500.,  1800.,  1800.,  2800.,  4400., 21300.,  2000., 36600.,\n",
       "        1900.,  1800.,  1800., 56600.,  2600.,  3400.,  4700.,  3000.,\n",
       "        2000.,  8900.,  2700.,  2300., 19300.,  1800.,  2700.,  2000.,\n",
       "        2000.,  6300.,  4400.,  2600.,  2600.,  2000.,  2000.,  1800.,\n",
       "        4600.,  1800.,  1900.,  1800.,  2200.,  1800.,  1900.,  2300.,\n",
       "        2000.,  1800.,  3200.,  1900.,  1900.,  6700.], dtype=float32)"
      ]
     },
     "execution_count": 17,
     "metadata": {},
     "output_type": "execute_result"
    }
   ],
   "source": [
    "predict_y = model.predict(test_X)\n",
    "predict_y"
   ]
  },
  {
   "cell_type": "code",
   "execution_count": 18,
   "metadata": {},
   "outputs": [
    {
     "data": {
      "text/plain": [
       "array([ 3300., 13400.,  4200.,  2100.,  2300., 13100.,  2100.,  5300.,\n",
       "       12100.,  2500.,  1900.,  6400.,  4400.,  1900.,  4600.,  4500.,\n",
       "        2100.,  2900.,  3400., 12700.,  2200.,  7600.,  8200.,  2600.,\n",
       "        5500.,  1900.,  3800.,  8500.,  4000.,  2900.,  1800.,  2200.,\n",
       "        1900., 21700.,  4500.,  4100.,  2400.,  7000.,  2000.,  2000.,\n",
       "        4900.,  3200.,  2900.,  2600.,  2300.,  2400.,  7900.,  2600.,\n",
       "        2300.,  2100.,  2200.,  2600.,  2200.,  4600., 30300., 14300.,\n",
       "        2500.,  2100.,  1800.,  2300.,  4000.,  3500., 11300.,  2600.,\n",
       "        5300.,  8500.,  5800.,  2300.,  3700.,  2000.,  1800.,  8100.,\n",
       "        2600., 23800.,  5200.,  6500.,  2600.,  5200.,  5000.,  2200.,\n",
       "        2200.,  4500.,  3000.,  2600.,  5200.,  5800.,  5800., 16600.,\n",
       "        2900.,  2100., 21400.,  3900.,  2100.,  3600., 15200.,  3600.,\n",
       "        1800.,  5800.,  4500.,  7100., 11400.,  1900.,  3400.,  2300.,\n",
       "       12000.,  2000.,  1900.,  4300.,  2000.,  7800.,  2300.,  7000.,\n",
       "        1900.,  2900.,  2100., 29400.,  6700.,  6700.,  2400.,  2400.,\n",
       "        2600.,  3900., 52800.,  2300., 12300.,  3100.,  2900.,  6100.,\n",
       "        1900., 16000., 17000.,  1800.,  1900.,  5400.,  4500.,  2200.,\n",
       "       13300.,  1800.,  2700.,  3200.,  2400.,  5200., 17200.,  4000.,\n",
       "        2900.,  4000.,  4500.,  3900., 12800.,  4200.,  4100.,  8200.,\n",
       "        7600.,  3400.,  3800.,  3300.,  5200., 13300.,  2300.,  5700.,\n",
       "        2600.,  2400.,  5100., 31400.,  2300.,  2400.,  2400.,  8700.,\n",
       "        2500., 64099.,  5200.,  3000.,  7900.,  2200.,  3200.,  3700.,\n",
       "        4400., 16200.,  3200.,  7400.,  8300.,  2000.,  2000.,  2000.,\n",
       "        2200.,  4600.,  2100.,  2800., 13500.,  2700.,  7400.,  3700.,\n",
       "        1800.,  2200., 15000.,  2900.,  2000.,  2800.], dtype=float32)"
      ]
     },
     "execution_count": 18,
     "metadata": {},
     "output_type": "execute_result"
    }
   ],
   "source": [
    "test_y"
   ]
  },
  {
   "cell_type": "code",
   "execution_count": 19,
   "metadata": {},
   "outputs": [
    {
     "data": {
      "text/plain": [
       "array([ -1300.,  33800.,   -500.,   1700.,   -100.,  -8700.,    100.,\n",
       "        -2900.,  -9600.,   5100.,   1200.,   3800.,  -2500.,    200.,\n",
       "        -2800.,  -2500.,   -100.,   -900.,  -1400., -10800.,   2500.,\n",
       "        -5700.,  -6400.,      0.,  -3500.,   -100.,  -1900.,   9500.,\n",
       "         -300.,  -1000.,    200.,   -300.,   -100., -15400.,  -2500.,\n",
       "        -2100.,   -400.,  -5200.,   -200.,   -200.,  -1100.,  -1200.,\n",
       "         -900.,   -800.,   2400.,   2000.,  -4200.,   -600.,   -300.,\n",
       "         -100.,    300.,   -600.,   -200.,  -2800., -24400.,      0.,\n",
       "         -500.,   -300.,   3600.,   -500.,  -2000.,  -1500.,  -4700.,\n",
       "            0.,   1400.,  -6700.,  -3500.,   -400.,  -1700.,   2600.,\n",
       "          200.,  -5900.,   -300., -17500.,  40900.,  -4100.,   -600.,\n",
       "        -3300.,  -2300.,   -200.,   -200.,  -2700.,  -1000.,   -800.,\n",
       "          100.,  -3300.,  -3100., -10300.,  12100.,   -100., -14200.,\n",
       "         -800.,   -300.,  -1700., -13400.,   3100.,      0.,   1800.,\n",
       "        -1900.,   1000.,  -4800.,    100.,  -1500.,   -300.,  -9000.,\n",
       "         -200.,    600.,   -400.,      0.,   8800.,   -500.,  -5200.,\n",
       "          100.,   -900.,   -300., -15800.,  -4000.,  -4800.,   -400.,\n",
       "         -400.,   -600.,  -2000., -49800.,    400.,  -7900.,  -1300.,\n",
       "        -1100.,  -2800.,   -100.,  -5600.,  -6900.,    200.,   2500.,\n",
       "        14200.,  -2500.,   3300.,    300.,    200.,   -700.,   -600.,\n",
       "         -600.,  -3400., -10400.,  -2100.,   -700.,  -2000.,    200.,\n",
       "        -1200.,  -7200.,   1300.,  -1400.,  -1400.,  -4100.,  -1600.,\n",
       "        -2000.,   -500.,   -800.,   8000.,   -300.,  30900.,   -700.,\n",
       "         -600.,  -3300.,  25200.,    300.,   1000.,   2300.,  -5700.,\n",
       "         -500., -55199.,  -2500.,   -700.,  11400.,   -400.,   -500.,\n",
       "        -1700.,  -2400.,  -9900.,   1200.,  -4800.,  -5700.,      0.,\n",
       "            0.,   -200.,   2400.,  -2800.,   -200.,  -1000., -11300.,\n",
       "         -900.,  -5500.,  -1400.,    200.,   -400., -11800.,  -1000.,\n",
       "         -100.,   3900.], dtype=float32)"
      ]
     },
     "execution_count": 19,
     "metadata": {},
     "output_type": "execute_result"
    }
   ],
   "source": [
    "predict_y - test_y"
   ]
  },
  {
   "cell_type": "markdown",
   "metadata": {},
   "source": [
    "结果偏差较大，可能是数据质量不佳引起的。"
   ]
  },
  {
   "cell_type": "code",
   "execution_count": null,
   "metadata": {},
   "outputs": [],
   "source": []
  }
 ],
 "metadata": {
  "interpreter": {
   "hash": "e7370f93d1d0cde622a1f8e1c04877d8463912d04d973331ad4851f04de6915a"
  },
  "kernelspec": {
   "display_name": "Python 3.9.7 64-bit",
   "language": "python",
   "name": "python3"
  },
  "language_info": {
   "codemirror_mode": {
    "name": "ipython",
    "version": 3
   },
   "file_extension": ".py",
   "mimetype": "text/x-python",
   "name": "python",
   "nbconvert_exporter": "python",
   "pygments_lexer": "ipython3",
   "version": "3.9.7"
  },
  "orig_nbformat": 4
 },
 "nbformat": 4,
 "nbformat_minor": 2
}
